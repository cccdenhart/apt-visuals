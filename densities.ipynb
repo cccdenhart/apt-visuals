{
 "cells": [
  {
   "cell_type": "code",
   "execution_count": 252,
   "metadata": {},
   "outputs": [],
   "source": [
    "import numpy as np\n",
    "import pandas as pd\n",
    "from pathlib import Path\n",
    "import datetime\n",
    "import warnings\n",
    "import numpy as np\n",
    "import json\n",
    "import copy\n",
    "import urllib.request\n",
    "warnings.filterwarnings(\"ignore\")\n",
    "pd.options.display.max_columns = 500\n",
    "pd.options.display.max_rows = 1000"
   ]
  },
  {
   "cell_type": "code",
   "execution_count": 289,
   "metadata": {},
   "outputs": [],
   "source": [
    "# import data\n",
    "dir = str(Path().resolve())\n",
    "air = pd.read_csv(dir + \"/../processing/data/airbnb/counts.csv\")\n",
    "apts = pd.read_csv(dir + \"/../processing/data/apts/counts.csv\")\n",
    "with urllib.request.urlopen(\"http://bostonopendata-boston.opendata.arcgis.com/datasets/53ea466a189b4f43b3dfb7b38fa7f3b6_1.geojson\") as url:\n",
    "    zips = json.loads(url.read().decode())"
   ]
  },
  {
   "cell_type": "code",
   "execution_count": 290,
   "metadata": {},
   "outputs": [],
   "source": [
    "air = air.drop('counts', axis=1)\n",
    "apts = apts.drop('counts', axis=1)"
   ]
  },
  {
   "cell_type": "code",
   "execution_count": 291,
   "metadata": {},
   "outputs": [],
   "source": [
    "air['density'] = air['density'] / air.density.max()\n",
    "apts['density'] = apts['density'] / apts.density.max()"
   ]
  },
  {
   "cell_type": "code",
   "execution_count": 292,
   "metadata": {},
   "outputs": [],
   "source": [
    "apts['zipcode'] = \"0\" + apts['zipcode'].apply(str)"
   ]
  },
  {
   "cell_type": "code",
   "execution_count": 293,
   "metadata": {},
   "outputs": [],
   "source": [
    "apt_geo = copy.deepcopy(zips)\n",
    "air_geo = copy.deepcopy(zips)"
   ]
  },
  {
   "cell_type": "code",
   "execution_count": 294,
   "metadata": {},
   "outputs": [],
   "source": [
    "for y in apt_geo['features']:\n",
    "    zc = y['properties']['ZIP5']\n",
    "    if zc in apts.zipcode.unique():\n",
    "        y['properties']['density'] = apts.density.iloc[apts.zipcode[apts.zipcode==zc].index[0]]\n",
    "    else:\n",
    "        y['properties']['density'] = 0"
   ]
  },
  {
   "cell_type": "code",
   "execution_count": 295,
   "metadata": {},
   "outputs": [],
   "source": [
    "for z in air_geo['features']:\n",
    "    zc = z['properties']['ZIP5']\n",
    "    if zc in air.zipcode.unique():\n",
    "        z['properties']['density'] = air.density.iloc[air.zipcode[air.zipcode==zc].index[0]]\n",
    "    else:\n",
    "        z['properties']['density'] = 0"
   ]
  },
  {
   "cell_type": "code",
   "execution_count": 296,
   "metadata": {},
   "outputs": [],
   "source": [
    "with open('apts.json', 'w') as outfile:  \n",
    "    json.dump(apt_geo, outfile)"
   ]
  },
  {
   "cell_type": "code",
   "execution_count": 298,
   "metadata": {},
   "outputs": [],
   "source": [
    "with open('airs.json', 'w') as outfile:  \n",
    "    json.dump(air_geo, outfile)"
   ]
  }
 ],
 "metadata": {
  "kernelspec": {
   "display_name": "Python 3",
   "language": "python",
   "name": "python3"
  },
  "language_info": {
   "codemirror_mode": {
    "name": "ipython",
    "version": 3
   },
   "file_extension": ".py",
   "mimetype": "text/x-python",
   "name": "python",
   "nbconvert_exporter": "python",
   "pygments_lexer": "ipython3",
   "version": "3.7.0"
  }
 },
 "nbformat": 4,
 "nbformat_minor": 2
}
